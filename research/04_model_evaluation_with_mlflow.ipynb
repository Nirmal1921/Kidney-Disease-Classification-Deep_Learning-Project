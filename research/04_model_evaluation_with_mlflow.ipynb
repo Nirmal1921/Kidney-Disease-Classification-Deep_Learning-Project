{
 "cells": [
  {
   "cell_type": "code",
   "execution_count": 1,
   "metadata": {},
   "outputs": [],
   "source": [
    "import os"
   ]
  },
  {
   "cell_type": "code",
   "execution_count": 2,
   "metadata": {},
   "outputs": [
    {
     "data": {
      "text/plain": [
       "'c:\\\\Users\\\\DELL\\\\Documents\\\\Kidney-Disease-Classification-Deep-Learning-Project\\\\research'"
      ]
     },
     "execution_count": 2,
     "metadata": {},
     "output_type": "execute_result"
    }
   ],
   "source": [
    "%pwd"
   ]
  },
  {
   "cell_type": "code",
   "execution_count": 3,
   "metadata": {},
   "outputs": [],
   "source": [
    "os.chdir(\"../\")"
   ]
  },
  {
   "cell_type": "code",
   "execution_count": 4,
   "metadata": {},
   "outputs": [
    {
     "data": {
      "text/plain": [
       "'c:\\\\Users\\\\DELL\\\\Documents\\\\Kidney-Disease-Classification-Deep-Learning-Project'"
      ]
     },
     "execution_count": 4,
     "metadata": {},
     "output_type": "execute_result"
    }
   ],
   "source": [
    "%pwd"
   ]
  },
  {
   "cell_type": "code",
   "execution_count": 5,
   "metadata": {},
   "outputs": [
    {
     "data": {
      "text/html": [
       "<pre style=\"white-space:pre;overflow-x:auto;line-height:normal;font-family:Menlo,'DejaVu Sans Mono',consolas,'Courier New',monospace\">Initialized MLflow to track repo <span style=\"color: #008000; text-decoration-color: #008000\">\"nirmalkumarmaradiya/Kidney-Disease-Classification-Deep_Learning-Project\"</span>\n",
       "</pre>\n"
      ],
      "text/plain": [
       "Initialized MLflow to track repo \u001b[32m\"nirmalkumarmaradiya/Kidney-Disease-Classification-Deep_Learning-Project\"\u001b[0m\n"
      ]
     },
     "metadata": {},
     "output_type": "display_data"
    },
    {
     "data": {
      "text/html": [
       "<pre style=\"white-space:pre;overflow-x:auto;line-height:normal;font-family:Menlo,'DejaVu Sans Mono',consolas,'Courier New',monospace\">Repository nirmalkumarmaradiya/Kidney-Disease-Classification-Deep_Learning-Project initialized!\n",
       "</pre>\n"
      ],
      "text/plain": [
       "Repository nirmalkumarmaradiya/Kidney-Disease-Classification-Deep_Learning-Project initialized!\n"
      ]
     },
     "metadata": {},
     "output_type": "display_data"
    }
   ],
   "source": [
    "import dagshub\n",
    "dagshub.init(repo_owner='nirmalkumarmaradiya', repo_name='Kidney-Disease-Classification-Deep_Learning-Project', mlflow=True)\n",
    "\n"
   ]
  },
  {
   "cell_type": "code",
   "execution_count": 6,
   "metadata": {},
   "outputs": [],
   "source": [
    "import tensorflow as tf\n",
    "\n",
    "model = tf.keras.models.load_model(\"artifacts/training/model.h5\")\n",
    "\n"
   ]
  },
  {
   "cell_type": "code",
   "execution_count": null,
   "metadata": {},
   "outputs": [],
   "source": []
  },
  {
   "cell_type": "code",
   "execution_count": 7,
   "metadata": {},
   "outputs": [],
   "source": [
    "from dataclasses import dataclass\n",
    "from pathlib import Path\n",
    "\n",
    "@dataclass(frozen=True)\n",
    "class EvaluationConfig:\n",
    "    path_of_model: Path\n",
    "    training_data: Path\n",
    "    all_params: dict\n",
    "    mlflow_uri: str\n",
    "    params_image_size: list\n",
    "    params_batch_size: int"
   ]
  },
  {
   "cell_type": "code",
   "execution_count": 8,
   "metadata": {},
   "outputs": [],
   "source": [
    "from cnnClassifier.constants import *\n",
    "from cnnClassifier.utils.common import read_yaml, create_directories, save_json"
   ]
  },
  {
   "cell_type": "code",
   "execution_count": 9,
   "metadata": {},
   "outputs": [],
   "source": [
    "class ConfigurationManager:\n",
    "    def __init__(\n",
    "        self, \n",
    "        config_filepath = CONFIG_FILE_PATH,\n",
    "        params_filepath = PARAMS_FILE_PATH):\n",
    "        self.config = read_yaml(config_filepath)\n",
    "        self.params = read_yaml(params_filepath)\n",
    "        create_directories([self.config.artifacts_root])\n",
    "\n",
    "    \n",
    "    def get_evaluation_config(self) -> EvaluationConfig:\n",
    "        eval_config = EvaluationConfig(\n",
    "            path_of_model=\"artifacts/training/model.h5\",\n",
    "            training_data=\"artifacts/data_ingestion/kidney-ct-scan-image\",\n",
    "            mlflow_uri=\"https://dagshub.com/nirmalkumarmaradiya/Kidney-Disease-Classification-Deep_Learning-Project.mlflow\",\n",
    "            all_params=self.params,\n",
    "            params_image_size=self.params.IMAGE_SIZE,\n",
    "            params_batch_size=self.params.BATCH_SIZE\n",
    "        )\n",
    "        return eval_config\n",
    "\n",
    "\n"
   ]
  },
  {
   "cell_type": "code",
   "execution_count": 10,
   "metadata": {},
   "outputs": [],
   "source": [
    "import tensorflow as tf\n",
    "from pathlib import Path\n",
    "import mlflow\n",
    "import mlflow.keras\n",
    "from urllib.parse import urlparse"
   ]
  },
  {
   "cell_type": "code",
   "execution_count": 11,
   "metadata": {},
   "outputs": [
    {
     "name": "stdout",
     "output_type": "stream",
     "text": [
      "[2024-07-02 11:16:29,963: INFO: common: yaml file: config\\config.yaml loaded successfully]\n",
      "[2024-07-02 11:16:29,987: INFO: common: yaml file: params.yaml loaded successfully]\n",
      "[2024-07-02 11:16:29,996: INFO: common: created directory at: artifacts]\n",
      "Loading model...\n",
      "Model loaded successfully.\n",
      "Setting up validation generator...\n",
      "Found 139 images belonging to 2 classes.\n",
      "Validation generator set up successfully.\n",
      "Validation generator set up successfully.\n",
      "Evaluating model...\n",
      "Available memory before evaluation: 1139232768 bytes\n",
      "70/70 [==============================] - 65s 872ms/step - loss: 0.0273 - accuracy: 0.9856\n",
      "Available memory after evaluation: 1099808768 bytes\n",
      "Model evaluated successfully. Score: [0.02734319493174553, 0.9856114983558655]\n",
      "Scores saved to scores.json.\n",
      "Scores saved successfully.\n",
      "Session cleared.\n"
     ]
    },
    {
     "name": "stderr",
     "output_type": "stream",
     "text": [
      "2024/07/02 11:17:40 WARNING mlflow.tensorflow: You are saving a TensorFlow Core model or Keras model without a signature. Inference with mlflow.pyfunc.spark_udf() will not work unless the model's pyfunc representation accepts pandas DataFrames as inference inputs.\n"
     ]
    },
    {
     "name": "stdout",
     "output_type": "stream",
     "text": [
      "[2024-07-02 11:17:51,190: WARNING: save: Found untraced functions such as _jit_compiled_convolution_op, _jit_compiled_convolution_op, _jit_compiled_convolution_op, _jit_compiled_convolution_op, _jit_compiled_convolution_op while saving (showing 5 of 14). These functions will not be directly callable after loading.]\n",
      "INFO:tensorflow:Assets written to: C:\\Users\\DELL\\AppData\\Local\\Temp\\tmpkalrb15v\\model\\data\\model\\assets\n",
      "[2024-07-02 11:17:57,153: INFO: builder_impl: Assets written to: C:\\Users\\DELL\\AppData\\Local\\Temp\\tmpkalrb15v\\model\\data\\model\\assets]\n"
     ]
    },
    {
     "name": "stderr",
     "output_type": "stream",
     "text": [
      "2024/07/02 11:20:08 WARNING mlflow.utils.environment: Encountered an unexpected error while inferring pip requirements (model URI: C:\\Users\\DELL\\AppData\\Local\\Temp\\tmpkalrb15v\\model, flavor: tensorflow), fall back to return ['tensorflow==2.12.0']. Set logging level to DEBUG to see the full traceback.\n",
      "c:\\Users\\DELL\\.conda\\envs\\kidney\\lib\\site-packages\\_distutils_hack\\__init__.py:26: UserWarning: Setuptools is replacing distutils.\n",
      "  warnings.warn(\"Setuptools is replacing distutils.\")\n",
      "Successfully registered model 'VGG16Model'.\n",
      "2024/07/02 11:20:45 INFO mlflow.tracking._model_registry.client: Waiting up to 300 seconds for model version to finish creation.                     Model name: VGG16Model, version 1\n",
      "Created version '1' of model 'VGG16Model'.\n"
     ]
    },
    {
     "name": "stdout",
     "output_type": "stream",
     "text": [
      "Logged into MLflow successfully.\n"
     ]
    }
   ],
   "source": [
    "import mlflow\n",
    "from urllib.parse import urlparse\n",
    "from pathlib import Path\n",
    "import tensorflow as tf\n",
    "import json\n",
    "import psutil\n",
    "\n",
    "class Evaluation:\n",
    "    def __init__(self, config: EvaluationConfig):\n",
    "        self.config = config\n",
    "        self.model = None\n",
    "        self.valid_generator = None\n",
    "        self.score = None\n",
    "\n",
    "        # Enable memory growth for GPUs\n",
    "        gpus = tf.config.experimental.list_physical_devices('GPU')\n",
    "        if gpus:\n",
    "            try:\n",
    "                for gpu in gpus:\n",
    "                    tf.config.experimental.set_memory_growth(gpu, True)\n",
    "                print(\"Enabled memory growth for GPUs\")\n",
    "            except RuntimeError as e:\n",
    "                print(f\"Error enabling memory growth for GPUs: {e}\")\n",
    "\n",
    "    def _valid_generator(self):\n",
    "        try:\n",
    "            datagenerator_kwargs = dict(\n",
    "                rescale=1./255,\n",
    "                validation_split=0.30\n",
    "            )\n",
    "\n",
    "            dataflow_kwargs = dict(\n",
    "                target_size=self.config.params_image_size[:-1],\n",
    "                batch_size=2,  # Further reduced batch size\n",
    "                interpolation=\"bilinear\"\n",
    "            )\n",
    "\n",
    "            valid_datagenerator = tf.keras.preprocessing.image.ImageDataGenerator(\n",
    "                **datagenerator_kwargs\n",
    "            )\n",
    "\n",
    "            self.valid_generator = valid_datagenerator.flow_from_directory(\n",
    "                directory=self.config.training_data,\n",
    "                subset=\"validation\",\n",
    "                shuffle=False,\n",
    "                **dataflow_kwargs\n",
    "            )\n",
    "            print(\"Validation generator set up successfully.\")\n",
    "        except Exception as e:\n",
    "            print(f\"An error occurred while setting up validation generator: {e}\")\n",
    "            raise e\n",
    "\n",
    "    @staticmethod\n",
    "    def load_model(path: Path) -> tf.keras.Model:\n",
    "        try:\n",
    "            return tf.keras.models.load_model(path)\n",
    "        except Exception as e:\n",
    "            print(f\"An error occurred while loading the model: {e}\")\n",
    "            raise e\n",
    "\n",
    "    def evaluate(self):\n",
    "        try:\n",
    "            print(\"Loading model...\")\n",
    "            self.model = self.load_model(self.config.path_of_model)\n",
    "            print(\"Model loaded successfully.\")\n",
    "\n",
    "            print(\"Setting up validation generator...\")\n",
    "            self._valid_generator()\n",
    "            print(\"Validation generator set up successfully.\")\n",
    "\n",
    "            print(\"Evaluating model...\")\n",
    "\n",
    "            # Track memory usage before evaluation\n",
    "            mem_before = psutil.virtual_memory().available\n",
    "            print(f\"Available memory before evaluation: {mem_before} bytes\")\n",
    "\n",
    "            # Evaluate model\n",
    "            self.score = self.model.evaluate(self.valid_generator)\n",
    "\n",
    "            # Track memory usage after evaluation\n",
    "            mem_after = psutil.virtual_memory().available\n",
    "            print(f\"Available memory after evaluation: {mem_after} bytes\")\n",
    "\n",
    "            print(f\"Model evaluated successfully. Score: {self.score}\")\n",
    "\n",
    "            self.save_score()\n",
    "            print(\"Scores saved successfully.\")\n",
    "        except Exception as e:\n",
    "            print(f\"An error occurred during evaluation: {e}\")\n",
    "            raise e\n",
    "        finally:\n",
    "            # Clear session to free memory\n",
    "            tf.keras.backend.clear_session()\n",
    "            print(\"Session cleared.\")\n",
    "\n",
    "    def save_score(self):\n",
    "        try:\n",
    "            scores = {\"loss\": self.score[0], \"accuracy\": self.score[1]}\n",
    "            with open(\"scores.json\", \"w\") as f:\n",
    "                json.dump(scores, f)\n",
    "            print(\"Scores saved to scores.json.\")\n",
    "        except Exception as e:\n",
    "            print(f\"An error occurred while saving scores: {e}\")\n",
    "            raise e\n",
    "\n",
    "    def log_into_mlflow(self):\n",
    "        try:\n",
    "            mlflow.set_registry_uri(self.config.mlflow_uri)\n",
    "            tracking_url_type_store = urlparse(mlflow.get_tracking_uri()).scheme\n",
    "\n",
    "            with mlflow.start_run():\n",
    "                mlflow.log_params(self.config.all_params)\n",
    "                mlflow.log_metrics({\"loss\": self.score[0], \"accuracy\": self.score[1]})\n",
    "\n",
    "                if tracking_url_type_store != \"file\":\n",
    "                    mlflow.keras.log_model(self.model, \"model\", registered_model_name=\"VGG16Model\")\n",
    "                else:\n",
    "                    mlflow.keras.log_model(self.model, \"model\")\n",
    "            print(\"Logged into MLflow successfully.\")\n",
    "        except Exception as e:\n",
    "            print(f\"An error occurred while logging into MLflow: {e}\")\n",
    "            raise e\n",
    "\n",
    "# Example usage within a try-except block\n",
    "try:\n",
    "    config = ConfigurationManager()\n",
    "    eval_config = config.get_evaluation_config()\n",
    "\n",
    "    evaluation = Evaluation(eval_config)\n",
    "    evaluation.evaluate()\n",
    "    evaluation.log_into_mlflow()\n",
    "\n",
    "except Exception as e:\n",
    "    print(f\"An error occurred: {e}\")\n",
    "    raise e\n"
   ]
  },
  {
   "cell_type": "code",
   "execution_count": null,
   "metadata": {},
   "outputs": [],
   "source": []
  }
 ],
 "metadata": {
  "kernelspec": {
   "display_name": "kidney",
   "language": "python",
   "name": "python3"
  },
  "language_info": {
   "codemirror_mode": {
    "name": "ipython",
    "version": 3
   },
   "file_extension": ".py",
   "mimetype": "text/x-python",
   "name": "python",
   "nbconvert_exporter": "python",
   "pygments_lexer": "ipython3",
   "version": "3.10.8"
  },
  "orig_nbformat": 4
 },
 "nbformat": 4,
 "nbformat_minor": 2
}
